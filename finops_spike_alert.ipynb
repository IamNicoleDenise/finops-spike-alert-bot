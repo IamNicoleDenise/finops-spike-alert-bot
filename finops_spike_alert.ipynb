{
 "cells": [
  {
   "cell_type": "code",
   "execution_count": 4,
   "metadata": {},
   "outputs": [],
   "source": [
    "import pandas as pd "
   ]
  },
  {
   "cell_type": "code",
   "execution_count": null,
   "metadata": {},
   "outputs": [
    {
     "data": {
      "text/html": [
       "<div>\n",
       "<style scoped>\n",
       "    .dataframe tbody tr th:only-of-type {\n",
       "        vertical-align: middle;\n",
       "    }\n",
       "\n",
       "    .dataframe tbody tr th {\n",
       "        vertical-align: top;\n",
       "    }\n",
       "\n",
       "    .dataframe thead th {\n",
       "        text-align: right;\n",
       "    }\n",
       "</style>\n",
       "<table border=\"1\" class=\"dataframe\">\n",
       "  <thead>\n",
       "    <tr style=\"text-align: right;\">\n",
       "      <th></th>\n",
       "      <th>UsageDate</th>\n",
       "      <th>Service</th>\n",
       "      <th>Region</th>\n",
       "      <th>UsageType</th>\n",
       "      <th>Cost</th>\n",
       "    </tr>\n",
       "  </thead>\n",
       "  <tbody>\n",
       "    <tr>\n",
       "      <th>0</th>\n",
       "      <td>2025-03-13</td>\n",
       "      <td>Amazon EC2</td>\n",
       "      <td>us-east-1</td>\n",
       "      <td>GB-Seconds</td>\n",
       "      <td>9.30</td>\n",
       "    </tr>\n",
       "    <tr>\n",
       "      <th>1</th>\n",
       "      <td>2025-03-13</td>\n",
       "      <td>Amazon S3</td>\n",
       "      <td>us-west-2</td>\n",
       "      <td>Multi-AZ-Storage</td>\n",
       "      <td>6.27</td>\n",
       "    </tr>\n",
       "    <tr>\n",
       "      <th>2</th>\n",
       "      <td>2025-03-13</td>\n",
       "      <td>AWS Lambda</td>\n",
       "      <td>eu-central-1</td>\n",
       "      <td>BoxUsage:t2.micro</td>\n",
       "      <td>6.57</td>\n",
       "    </tr>\n",
       "    <tr>\n",
       "      <th>3</th>\n",
       "      <td>2025-03-13</td>\n",
       "      <td>Amazon RDS</td>\n",
       "      <td>us-east-1</td>\n",
       "      <td>BoxUsage:t2.micro</td>\n",
       "      <td>7.65</td>\n",
       "    </tr>\n",
       "    <tr>\n",
       "      <th>4</th>\n",
       "      <td>2025-03-14</td>\n",
       "      <td>Amazon EC2</td>\n",
       "      <td>us-west-2</td>\n",
       "      <td>Requests-Tier1</td>\n",
       "      <td>12.53</td>\n",
       "    </tr>\n",
       "  </tbody>\n",
       "</table>\n",
       "</div>"
      ],
      "text/plain": [
       "    UsageDate     Service        Region          UsageType   Cost\n",
       "0  2025-03-13  Amazon EC2     us-east-1         GB-Seconds   9.30\n",
       "1  2025-03-13   Amazon S3     us-west-2   Multi-AZ-Storage   6.27\n",
       "2  2025-03-13  AWS Lambda  eu-central-1  BoxUsage:t2.micro   6.57\n",
       "3  2025-03-13  Amazon RDS     us-east-1  BoxUsage:t2.micro   7.65\n",
       "4  2025-03-14  Amazon EC2     us-west-2     Requests-Tier1  12.53"
      ]
     },
     "execution_count": 5,
     "metadata": {},
     "output_type": "execute_result"
    }
   ],
   "source": [
    "# Read the dummy data \n",
    "df = pd.read_csv(\"/Users/Your File Path/dummy_aws_cost_data.csv\")\n",
    "# Preview Data\n",
    "df.head()"
   ]
  },
  {
   "cell_type": "code",
   "execution_count": 6,
   "metadata": {},
   "outputs": [],
   "source": [
    "# Convert UsageData to datetime \n",
    "df['UsageDate'] = pd.to_datetime(df['UsageDate'], errors='coerce')\n"
   ]
  },
  {
   "cell_type": "code",
   "execution_count": 7,
   "metadata": {},
   "outputs": [],
   "source": [
    "df['UsageDate'] = pd.to_datetime(df['UsageDate'], errors='coerce')\n"
   ]
  },
  {
   "cell_type": "code",
   "execution_count": 8,
   "metadata": {},
   "outputs": [],
   "source": [
    "# Define yesterday and the 7 days before that\n",
    "today = df['UsageDate'].max()\n",
    "yesterday = today - pd.Timedelta(days=1)\n",
    "last_7_days = yesterday - pd.Timedelta(days=6)"
   ]
  },
  {
   "cell_type": "code",
   "execution_count": 9,
   "metadata": {},
   "outputs": [],
   "source": [
    "# Filter for last 7 days and yesterday only\n",
    "df_7 = df[(df['UsageDate'] >= last_7_days) & (df['UsageDate'] <= yesterday)]\n",
    "df_yesterday = df[df['UsageDate'] == yesterday]"
   ]
  },
  {
   "cell_type": "code",
   "execution_count": 10,
   "metadata": {},
   "outputs": [],
   "source": [
    "# Group by Service\n",
    "avg_7 = df_7.groupby('Service')['Cost'].mean()\n",
    "cost_yesterday = df_yesterday.groupby('Service')['Cost'].sum()\n",
    "\n",
    "# Calculate spike ratio\n",
    "spikes = (cost_yesterday / avg_7) > 1.5  # you can adjust the threshold %"
   ]
  },
  {
   "cell_type": "code",
   "execution_count": 11,
   "metadata": {},
   "outputs": [],
   "source": [
    "import matplotlib.pyplot as plt"
   ]
  },
  {
   "cell_type": "code",
   "execution_count": 12,
   "metadata": {},
   "outputs": [],
   "source": [
    "# Create the cost comparison chart\n",
    "cost_comparison = pd.DataFrame({\n",
    "    '7-Day Avg': avg_7,\n",
    "    'Yesterday': cost_yesterday\n",
    "})"
   ]
  },
  {
   "cell_type": "code",
   "execution_count": 13,
   "metadata": {},
   "outputs": [],
   "source": [
    "from io import BytesIO\n",
    "import matplotlib.pyplot as plt\n",
    "import requests\n",
    "\n",
    "\n"
   ]
  },
  {
   "cell_type": "code",
   "execution_count": 14,
   "metadata": {},
   "outputs": [
    {
     "data": {
      "text/plain": [
       "<Figure size 1000x600 with 0 Axes>"
      ]
     },
     "metadata": {},
     "output_type": "display_data"
    }
   ],
   "source": [
    "# Plot and save\n",
    "plt.figure(figsize=(10, 6))\n",
    "cost_comparison.plot(kind='bar')\n",
    "plt.title(\"AWS Cost Comparison: 7-Day Avg vs Yesterday\")\n",
    "plt.ylabel(\"Cost ($)\")\n",
    "plt.xticks(rotation=45)\n",
    "plt.tight_layout()\n",
    "plt.savefig(\"cost_comparison_chart.png\")\n",
    "plt.close()"
   ]
  },
  {
   "cell_type": "code",
   "execution_count": null,
   "metadata": {},
   "outputs": [
    {
     "data": {
      "text/plain": [
       "<Figure size 1000x600 with 0 Axes>"
      ]
     },
     "metadata": {},
     "output_type": "display_data"
    }
   ],
   "source": [
    "# Rebuild the plot\n",
    "cost_comparison = pd.DataFrame({\n",
    "    '7-Day Avg': avg_7,\n",
    "    'Yesterday': cost_yesterday\n",
    "})\n",
    "\n",
    "# Plot and save\n",
    "plt.figure(figsize=(10, 6))\n",
    "cost_comparison.plot(kind='bar')\n",
    "plt.title(\"AWS Cost Comparison: 7-Day Avg vs Yesterday\")\n",
    "plt.ylabel(\"Cost ($)\")\n",
    "plt.xticks(rotation=45)\n",
    "plt.tight_layout()\n",
    "plt.savefig(\"cost_comparison_chart.png\")\n",
    "plt.close()"
   ]
  },
  {
   "cell_type": "code",
   "execution_count": 16,
   "metadata": {},
   "outputs": [],
   "source": [
    "import requests\n",
    "from io import BytesIO"
   ]
  },
  {
   "cell_type": "code",
   "execution_count": 17,
   "metadata": {},
   "outputs": [
    {
     "data": {
      "image/png": "[encoded data removed]",
      "text/plain": [
       "<Figure size 1000x600 with 1 Axes>"
      ]
     },
     "metadata": {},
     "output_type": "display_data"
    }
   ],
   "source": [
    "fig, ax = plt.subplots(figsize=(10, 6))\n",
    "cost_comparison.plot(kind='bar', ax=ax)\n",
    "plt.title(\"AWS Cost Comparison: 7-Day Avg vs Yesterday\")\n",
    "plt.ylabel(\"Cost ($)\")\n",
    "plt.xticks(rotation=45)\n",
    "plt.tight_layout()"
   ]
  },
  {
   "cell_type": "code",
   "execution_count": 18,
   "metadata": {},
   "outputs": [],
   "source": [
    "import matplotlib.pyplot as plt\n",
    "from io import BytesIO"
   ]
  },
  {
   "cell_type": "code",
   "execution_count": 19,
   "metadata": {},
   "outputs": [
    {
     "data": {
      "text/plain": [
       "0"
      ]
     },
     "execution_count": 19,
     "metadata": {},
     "output_type": "execute_result"
    }
   ],
   "source": [
    "# Save chart to memory (not to file)\n",
    "buffer = BytesIO()\n",
    "plt.savefig(buffer, format='png')\n",
    "plt.close()\n",
    "buffer.seek(0)"
   ]
  },
  {
   "cell_type": "code",
   "execution_count": 20,
   "metadata": {},
   "outputs": [],
   "source": [
    "from dotenv import load_dotenv\n",
    "import os\n"
   ]
  },
  {
   "cell_type": "code",
   "execution_count": 22,
   "metadata": {},
   "outputs": [],
   "source": [
    "# Load token from .env\n",
    "load_dotenv(dotenv_path=\"Enter Path Here\")  # ← your full path\n",
    "slack_token = os.getenv(\"SLACK_TOKEN\")"
   ]
  },
  {
   "cell_type": "code",
   "execution_count": null,
   "metadata": {},
   "outputs": [],
   "source": [
    "# Configure to Slack\n",
    "slack_token = os.getenv(\"SLACK_TOKEN\")  # from .env\n",
    "channel = \"#MySlackChannelName\""
   ]
  },
  {
   "cell_type": "code",
   "execution_count": null,
   "metadata": {},
   "outputs": [],
   "source": [
    "#Confirm Token is connected \n",
    "print(\"Token:\", slack_token[:12])  # Only show the first part for safety\n"
   ]
  },
  {
   "cell_type": "code",
   "execution_count": 24,
   "metadata": {},
   "outputs": [
    {
     "name": "stdout",
     "output_type": "stream",
     "text": [
      "🚨 Services with cost spikes:\n",
      "['AWS Lambda']\n"
     ]
    }
   ],
   "source": [
    "# Print services with spikes \n",
    "print(\"🚨 Services with cost spikes:\")\n",
    "if spikes.any():\n",
    "    print(spikes[spikes].index.tolist())\n",
    "else:\n",
    "    print(\"No significant spikes today.\")\n"
   ]
  },
  {
   "cell_type": "code",
   "execution_count": null,
   "metadata": {},
   "outputs": [],
   "source": [
    "# Detailed notification Message \n",
    "import requests\n",
    "\n",
    "webhook_url = \"https://hooks.slack.com/services/your/full/webhook/url\"  #Add Your Webhook \n",
    "message = {\n",
    "    \"text\": \"🚨 AWS Cost Spike Alert: AWS Lambda cost jumped 3.2x yesterday!\"\n",
    "}\n",
    "\n",
    "requests.post(webhook_url, json=message)\n"
   ]
  }
 ],
 "metadata": {
  "kernelspec": {
   "display_name": "Python 3",
   "language": "python",
   "name": "python3"
  },
  "language_info": {
   "codemirror_mode": {
    "name": "ipython",
    "version": 3
   },
   "file_extension": ".py",
   "mimetype": "text/x-python",
   "name": "python",
   "nbconvert_exporter": "python",
   "pygments_lexer": "ipython3",
   "version": "3.13.1"
  }
 },
 "nbformat": 4,
 "nbformat_minor": 2
}
